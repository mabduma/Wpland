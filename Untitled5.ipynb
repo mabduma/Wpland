{
  "nbformat": 4,
  "nbformat_minor": 0,
  "metadata": {
    "colab": {
      "provenance": [],
      "authorship_tag": "ABX9TyNa1l+YXzgMLO+Ke6alnbL3",
      "include_colab_link": true
    },
    "kernelspec": {
      "name": "python3",
      "display_name": "Python 3"
    },
    "language_info": {
      "name": "python"
    }
  },
  "cells": [
    {
      "cell_type": "markdown",
      "metadata": {
        "id": "view-in-github",
        "colab_type": "text"
      },
      "source": [
        "<a href=\"https://colab.research.google.com/github/mabduma/Wpland/blob/main/Untitled5.ipynb\" target=\"_parent\"><img src=\"https://colab.research.google.com/assets/colab-badge.svg\" alt=\"Open In Colab\"/></a>"
      ]
    },
    {
      "cell_type": "code",
      "execution_count": 11,
      "metadata": {
        "colab": {
          "base_uri": "https://localhost:8080/"
        },
        "id": "3Ast5-JxpXWP",
        "outputId": "b5f2009f-7295-4831-d054-fb2b4795ec56"
      },
      "outputs": [
        {
          "output_type": "stream",
          "name": "stdout",
          "text": [
            "rock, paper, or scissors?:scissors\n",
            "computer:  rock\n",
            "player:  scissors\n",
            "computer wins!\n"
          ]
        }
      ],
      "source": [
        "import random\n",
        "\n",
        "choices = [\"rock\",\"paper\",\"scissors\"]\n",
        "computer = random.choice(choices)\n",
        "player = input(\"rock, paper, or scissors?:\")\n",
        "print(\"computer: \", computer)\n",
        "print(\"player: \", player)\n",
        "\n",
        "if computer == \"rock\" and player == \"scissors\":\n",
        "  print(\"computer wins!\")\n",
        "elif computer == \"scissors\" and player == \"rock\":\n",
        "  print(\"player wins!\")\n",
        "elif computer == \"paper\" and player == \"rock\":\n",
        "  print(\"computer wins!\")\n",
        "elif computer == \"rock\" and player == \"paper\":\n",
        "  print(\"player wins!\")\n",
        "elif computer == \"scissors\" and player == \"paer\":\n",
        "  print(\"computer wins!\")\n",
        "elif computer == \"paper\" and player == \"scissors\":\n",
        "  print(\"player wins!\")\n",
        "elif computer == player:\n",
        "  print(\"it's a tie\")\n",
        "else:\n",
        "  print(\"something went wrong\")\n"
      ]
    }
  ]
}