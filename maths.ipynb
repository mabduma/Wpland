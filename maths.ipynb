{
  "nbformat": 4,
  "nbformat_minor": 0,
  "metadata": {
    "colab": {
      "provenance": [],
      "authorship_tag": "ABX9TyMxjU4nB6ym0Exb7kzTvC/C",
      "include_colab_link": true
    },
    "kernelspec": {
      "name": "python3",
      "display_name": "Python 3"
    },
    "language_info": {
      "name": "python"
    }
  },
  "cells": [
    {
      "cell_type": "markdown",
      "metadata": {
        "id": "view-in-github",
        "colab_type": "text"
      },
      "source": [
        "<a href=\"https://colab.research.google.com/github/mabduma/Wpland/blob/main/maths.ipynb\" target=\"_parent\"><img src=\"https://colab.research.google.com/assets/colab-badge.svg\" alt=\"Open In Colab\"/></a>"
      ]
    },
    {
      "cell_type": "code",
      "execution_count": 4,
      "metadata": {
        "colab": {
          "base_uri": "https://localhost:8080/"
        },
        "id": "hS_IHvcmmWGd",
        "outputId": "dd90d654-8828-41c9-9d12-b5dc0ea05d90"
      },
      "outputs": [
        {
          "output_type": "stream",
          "name": "stdout",
          "text": [
            "Welcome to Math Memory Game!\n",
            "What is 5 + 6? 5\n",
            "Wrong. The correct answer is: 11\n",
            "\n",
            "What is 2 + 5? 3\n",
            "Wrong. The correct answer is: 7\n",
            "\n",
            "What is 6 * 4? 4\n",
            "Wrong. The correct answer is: 24\n",
            "\n",
            "What is 7 * 5? 4\n",
            "Wrong. The correct answer is: 35\n",
            "\n",
            "What is 1 + 5? 8\n",
            "Wrong. The correct answer is: 6\n",
            "\n",
            "Game Over! Your final score is: 0/5\n"
          ]
        }
      ],
      "source": [
        "import random\n",
        "\n",
        "def generate_question():\n",
        "    num1 = random.randint(1, 10)\n",
        "    num2 = random.randint(1, 10)\n",
        "    operator = random.choice(['+', '-', '*'])\n",
        "\n",
        "    if operator == '+':\n",
        "        answer = num1 + num2\n",
        "    elif operator == '-':\n",
        "        answer = num1 - num2\n",
        "    else:\n",
        "        answer = num1 * num2\n",
        "\n",
        "    question = f\"What is {num1} {operator} {num2}? \"\n",
        "\n",
        "    return question, answer\n",
        "\n",
        "def memory_game():\n",
        "    score = 0\n",
        "    rounds = 5\n",
        "\n",
        "    print(\"Welcome to Math Memory Game!\")\n",
        "\n",
        "    for _ in range(rounds):\n",
        "        question, answer = generate_question()\n",
        "\n",
        "        user_answer = input(question)\n",
        "\n",
        "        if user_answer.isdigit() and int(user_answer) == answer:\n",
        "            print(\"Correct!\\n\")\n",
        "            score += 1\n",
        "        else:\n",
        "            print(f\"Wrong. The correct answer is: {answer}\\n\")\n",
        "\n",
        "    print(f\"Game Over! Your final score is: {score}/{rounds}\")\n",
        "\n",
        "if __name__ == \"__main__\":\n",
        "    memory_game()"
      ]
    },
    {
      "cell_type": "code",
      "source": [
        "import random\n",
        "\n",
        "def generate_sequence(length):\n",
        "    sequence = [random.randint(1, 10) for _ in range(length)]\n",
        "    return sequence\n",
        "\n",
        "def display_sequence(sequence):\n",
        "    print(\"Memorize the following sequence:\")\n",
        "    print(sequence)\n",
        "\n",
        "def get_answer(sequence):\n",
        "    result = 0\n",
        "    for num in sequence:\n",
        "        result += num\n",
        "    return result\n",
        "\n",
        "def math_memory_challenge():\n",
        "    level = 1\n",
        "    max_length = 5\n",
        "    score = 0\n",
        "\n",
        "    print(\"Welcome to Math Memory Challenge!\")\n",
        "\n",
        "    while level <= max_length:\n",
        "        input(f\"Press Enter to start Level {level}...\")\n",
        "\n",
        "        sequence = generate_sequence(level)\n",
        "        display_sequence(sequence)\n",
        "\n",
        "        user_answer = int(input(\"Enter the sum of the numbers in the sequence: \"))\n",
        "        correct_answer = get_answer(sequence)\n",
        "\n",
        "        if user_answer == correct_answer:\n",
        "            print(\"Correct!\")\n",
        "            score += 1\n",
        "        else:\n",
        "            print(f\"Incorrect. The sum of the numbers was {correct_answer}\")\n",
        "\n",
        "        level += 1\n",
        "\n",
        "    print(f\"Game Over! Your final score is: {score}/{max_length}\")\n",
        "\n",
        "if __name__ == \"__main__\":\n",
        "    math_memory_challenge()"
      ],
      "metadata": {
        "colab": {
          "base_uri": "https://localhost:8080/"
        },
        "id": "e1FdwflHoz7g",
        "outputId": "a6728720-07a5-4873-fb80-cb7d1cfedf91"
      },
      "execution_count": 5,
      "outputs": [
        {
          "output_type": "stream",
          "name": "stdout",
          "text": [
            "Welcome to Math Memory Challenge!\n",
            "Press Enter to start Level 1...1\n",
            "Memorize the following sequence:\n",
            "[4]\n",
            "Enter the sum of the numbers in the sequence: 5\n",
            "Incorrect. The sum of the numbers was 4\n",
            "Press Enter to start Level 2...2\n",
            "Memorize the following sequence:\n",
            "[9, 1]\n",
            "Enter the sum of the numbers in the sequence: 10\n",
            "Correct!\n",
            "Press Enter to start Level 3...3\n",
            "Memorize the following sequence:\n",
            "[2, 3, 3]\n",
            "Enter the sum of the numbers in the sequence: 8\n",
            "Correct!\n",
            "Press Enter to start Level 4...4\n",
            "Memorize the following sequence:\n",
            "[3, 4, 9, 2]\n",
            "Enter the sum of the numbers in the sequence: 18\n",
            "Correct!\n",
            "Press Enter to start Level 5...5\n",
            "Memorize the following sequence:\n",
            "[6, 8, 9, 5, 2]\n",
            "Enter the sum of the numbers in the sequence: 30\n",
            "Correct!\n",
            "Game Over! Your final score is: 4/5\n"
          ]
        }
      ]
    }
  ]
}